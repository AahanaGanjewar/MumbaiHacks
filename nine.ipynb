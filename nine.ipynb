{
 "cells": [
  {
   "cell_type": "code",
   "execution_count": 2,
   "metadata": {},
   "outputs": [
    {
     "name": "stderr",
     "output_type": "stream",
     "text": [
      "c:\\Users\\aahan\\AppData\\Local\\Programs\\Python\\Python311\\Lib\\site-packages\\tqdm\\auto.py:21: TqdmWarning: IProgress not found. Please update jupyter and ipywidgets. See https://ipywidgets.readthedocs.io/en/stable/user_install.html\n",
      "  from .autonotebook import tqdm as notebook_tqdm\n"
     ]
    }
   ],
   "source": [
    "import os\n",
    "import torch\n",
    "import ffmpeg\n",
    "import numpy as np\n",
    "from transformers import (\n",
    "    CLIPProcessor, \n",
    "    CLIPModel,\n",
    "    pipeline\n",
    ")\n",
    "from moviepy.editor import *\n",
    "import subprocess\n",
    "from typing import List, Dict, Tuple, Set\n",
    "import logging\n",
    "import json\n",
    "import cv2\n",
    "import librosa\n",
    "import whisper\n",
    "from sklearn.feature_extraction.text import TfidfVectorizer\n",
    "from collections import defaultdict"
   ]
  },
  {
   "cell_type": "code",
   "execution_count": 11,
   "metadata": {},
   "outputs": [],
   "source": [
    "def split_video_into_parts(video_path, output_dir):\n",
    "    # Ensure the output directory exists\n",
    "    os.makedirs(output_dir, exist_ok=True)\n",
    "\n",
    "    # Get the total duration of the video file\n",
    "    cmd_duration = [\n",
    "        'ffmpeg', '-i', video_path, \n",
    "        '-f', 'null', '/dev/null'\n",
    "    ]\n",
    "    \n",
    "    result = subprocess.run(cmd_duration, capture_output=True, text=True)\n",
    "\n",
    "    # Parse the duration from ffmpeg's output\n",
    "    duration_line = [line for line in result.stderr.split('\\n') if 'Duration' in line]\n",
    "    if not duration_line:\n",
    "        print(\"Could not find duration in the video file.\")\n",
    "        return\n",
    "\n",
    "    # Extract duration in seconds\n",
    "    duration = duration_line[0].split(' ')[3][:-1]  # Format is \"00:00:00.00\"\n",
    "    hours, minutes, seconds = map(float, duration.split(':'))\n",
    "    total_duration = hours * 3600 + minutes * 60 + seconds\n",
    "\n",
    "    # Calculate the duration of each split part\n",
    "    part_duration = total_duration / 5\n",
    "\n",
    "    # Split the video into 5 parts\n",
    "    for i in range(5):\n",
    "        start_time = i * part_duration\n",
    "        output_file = os.path.join(output_dir, f'part_{i+1}.mp4')  # Change extension if needed\n",
    "        \n",
    "        cmd_split = [\n",
    "            'ffmpeg', '-y',  # Overwrite output files if they exist\n",
    "            '-ss', str(start_time),  # Start time\n",
    "            '-i', video_path,  # Input video file\n",
    "            '-t', str(part_duration),  # Duration of each part\n",
    "            '-c:v', 'copy',  # Copy the video stream without re-encoding\n",
    "            '-c:a', 'copy',  # Copy the audio stream without re-encoding\n",
    "            output_file\n",
    "        ]\n",
    "        \n",
    "        # Run the command\n",
    "        subprocess.run(cmd_split)"
   ]
  },
  {
   "cell_type": "code",
   "execution_count": 12,
   "metadata": {},
   "outputs": [],
   "source": [
    "split_video_into_parts(video_path='videoplayback(1).mp4',output_dir='./random/')"
   ]
  },
  {
   "cell_type": "code",
   "execution_count": null,
   "metadata": {},
   "outputs": [],
   "source": []
  }
 ],
 "metadata": {
  "kernelspec": {
   "display_name": "Python 3",
   "language": "python",
   "name": "python3"
  },
  "language_info": {
   "codemirror_mode": {
    "name": "ipython",
    "version": 3
   },
   "file_extension": ".py",
   "mimetype": "text/x-python",
   "name": "python",
   "nbconvert_exporter": "python",
   "pygments_lexer": "ipython3",
   "version": "3.11.2"
  },
  "orig_nbformat": 4
 },
 "nbformat": 4,
 "nbformat_minor": 2
}
